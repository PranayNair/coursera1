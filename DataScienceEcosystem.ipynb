{
 "cells": [
  {
   "cell_type": "markdown",
   "id": "3a2ec37f-5987-44f0-a122-2a6d80aa9621",
   "metadata": {
    "tags": []
   },
   "source": [
    "# H1  Data Science Tools and Ecosystem"
   ]
  },
  {
   "cell_type": "markdown",
   "id": "c4869647-7665-4f9a-8446-79f426534386",
   "metadata": {
    "tags": []
   },
   "source": [
    "In this notebook, Data Science Tools and Ecosystem are summarized."
   ]
  },
  {
   "cell_type": "markdown",
   "id": "999e8995-6f2d-416a-95d2-b9c97927fecd",
   "metadata": {},
   "source": [
    "Some of the popular languages that Data Scientists use are:"
   ]
  },
  {
   "cell_type": "markdown",
   "id": "4096c29e-8126-4635-929a-31f2358e1c3b",
   "metadata": {},
   "source": [
    "**Objectives:** \n",
    "* Python\n",
    "* Java \n",
    "* C++\n",
    "* R\n",
    "* SQL"
   ]
  },
  {
   "cell_type": "markdown",
   "id": "a3e88d00-ca1a-475b-8a15-2dfccc3cc619",
   "metadata": {},
   "source": [
    "ordered list\n",
    "1) Python\n",
    "2) R language \n",
    "3) SQL"
   ]
  },
  {
   "cell_type": "markdown",
   "id": "0f79b198-caa2-4b49-9314-4998eab524b6",
   "metadata": {},
   "source": [
    "Some of the commonly used libraries used by Data Scientists include:\n",
    "\n",
    "ordered list"
   ]
  },
  {
   "cell_type": "markdown",
   "id": "a48cfcbd-e412-48b2-bf98-5eeb7a6ba2aa",
   "metadata": {},
   "source": [
    "1) NumPy\n",
    "2) Pandas\n",
    "3) Matplotlib"
   ]
  },
  {
   "cell_type": "markdown",
   "id": "d0927db0-637a-4860-b697-26d29fe02319",
   "metadata": {},
   "source": [
    "| Data Science Tools  |\n",
    "|---------------------|\n",
    "|------- GitHub------ |\n",
    "|-- Jupyter Notebook- |\n",
    "|---- Apache Spark--- |\n",
    "\n",
    "\n",
    "\n"
   ]
  },
  {
   "cell_type": "markdown",
   "id": "d127fd74-ae0c-486a-865c-d07ff872e0f4",
   "metadata": {},
   "source": [
    "### H3 Below are a few examples of evaluating arithmetic expressions in Python"
   ]
  },
  {
   "cell_type": "code",
   "execution_count": 5,
   "id": "724bb764-273b-44cd-a772-dd50feb163d9",
   "metadata": {
    "tags": []
   },
   "outputs": [
    {
     "data": {
      "text/plain": [
       "17"
      ]
     },
     "execution_count": 5,
     "metadata": {},
     "output_type": "execute_result"
    }
   ],
   "source": [
    "# This a simple arithmetic expression to mutiply then add integers\n",
    "(3*4)+5"
   ]
  },
  {
   "cell_type": "code",
   "execution_count": 6,
   "id": "b4cb89fd-3597-40d8-955b-36ccf7c09ac6",
   "metadata": {
    "tags": []
   },
   "outputs": [
    {
     "data": {
      "text/plain": [
       "3.3333333333333335"
      ]
     },
     "execution_count": 6,
     "metadata": {},
     "output_type": "execute_result"
    }
   ],
   "source": [
    "# This will convert 200 minutes to hours by diving by 60\n",
    "200/60"
   ]
  },
  {
   "cell_type": "markdown",
   "id": "abb149bb-3d86-491c-9a99-ab356cbeb341",
   "metadata": {},
   "source": [
    "## H2 Author\n",
    "Pranay Nair"
   ]
  },
  {
   "cell_type": "code",
   "execution_count": null,
   "id": "366272f9-228c-4046-984a-960c67a7a2db",
   "metadata": {},
   "outputs": [],
   "source": []
  }
 ],
 "metadata": {
  "kernelspec": {
   "display_name": "Python",
   "language": "python",
   "name": "conda-env-python-py"
  },
  "language_info": {
   "codemirror_mode": {
    "name": "ipython",
    "version": 3
   },
   "file_extension": ".py",
   "mimetype": "text/x-python",
   "name": "python",
   "nbconvert_exporter": "python",
   "pygments_lexer": "ipython3",
   "version": "3.7.12"
  }
 },
 "nbformat": 4,
 "nbformat_minor": 5
}
